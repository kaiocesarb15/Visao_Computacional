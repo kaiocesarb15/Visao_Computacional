{
 "cells": [
  {
   "cell_type": "code",
   "execution_count": 1,
   "metadata": {},
   "outputs": [],
   "source": [
    "import cv2 as cv\n",
    "import numpy as np"
   ]
  },
  {
   "cell_type": "markdown",
   "metadata": {},
   "source": [
    "# Questão 1"
   ]
  },
  {
   "cell_type": "code",
   "execution_count": 5,
   "metadata": {},
   "outputs": [],
   "source": [
    "# Inicializa o vídeo e o algoritmo de subtração de fundo\n",
    "cap = cv.VideoCapture('../src/video2.mp4')\n",
    "# cap = cv.VideoCapture('video.mp4')\n",
    "# backSub = cv.createBackgroundSubtractorMOG2()\n",
    "backSub = cv.createBackgroundSubtractorKNN()  # Alternativa com KNN\n",
    "\n",
    "# Criando um kernel para operações morfológicas\n",
    "kernel = np.ones((5, 5), np.uint8)\n",
    "\n",
    "while True:\n",
    "    ret, frame = cap.read()\n",
    "    \n",
    "    # Verifica se o frame foi lido corretamente\n",
    "    if frame is None:\n",
    "        break\n",
    "    frame = cv.resize(frame, (0,0), fx=0.5, fy=0.5)\n",
    "    # Aplica a subtração de fundo\n",
    "    fgMask = backSub.apply(frame)\n",
    "    \n",
    "    # Aplicar operações morfológicas para reduzir ruído\n",
    "    fgMask = cv.morphologyEx(fgMask, cv.MORPH_OPEN, kernel)\n",
    "    fgMask = cv.morphologyEx(fgMask, cv.MORPH_CLOSE, kernel)\n",
    "    fgMask = cv.dilate(fgMask, kernel, iterations=3)\n",
    "    fgMask = cv.dilate(fgMask, kernel, iterations=3)\n",
    "\n",
    "    movement_frame = cv.bitwise_and(frame, frame, mask=fgMask)\n",
    "\n",
    "    # Exibe a máscara do primeiro plano\n",
    "    cv.imshow('FG Mask', movement_frame)\n",
    "\n",
    "    # Sai do loop ao pressionar 'q'\n",
    "    if cv.waitKey(30) == ord('q'):\n",
    "        break\n",
    "\n",
    "# Libera os recursos e fecha as janelas\n",
    "cap.release()\n",
    "cv.destroyAllWindows()\n"
   ]
  },
  {
   "cell_type": "markdown",
   "metadata": {},
   "source": [
    "# Questão 2"
   ]
  },
  {
   "cell_type": "markdown",
   "metadata": {},
   "source": [
    "Essa implementação é mais precisa."
   ]
  },
  {
   "cell_type": "markdown",
   "metadata": {},
   "source": [
    "# Questão 3"
   ]
  },
  {
   "cell_type": "code",
   "execution_count": null,
   "metadata": {},
   "outputs": [],
   "source": [
    "# Inicializa o vídeo e o algoritmo de subtração de fundo\n",
    "cap = cv.VideoCapture('../src/video2.mp4')\n",
    "# cap = cv.VideoCapture('video.mp4')\n",
    "# backSub = cv.createBackgroundSubtractorMOG2()\n",
    "backSub = cv.createBackgroundSubtractorKNN()  # Alternativa com KNN\n",
    "\n",
    "# Criando um kernel para operações morfológicas\n",
    "kernel = np.ones((5, 5), np.uint8)\n",
    "\n",
    "while True:\n",
    "    ret, frame = cap.read()\n",
    "    \n",
    "    # Verifica se o frame foi lido corretamente\n",
    "    if frame is None:\n",
    "        break\n",
    "    frame = cv.resize(frame, (0,0), fx=0.5, fy=0.5)\n",
    "    # Aplica a subtração de fundo\n",
    "    fgMask = backSub.apply(frame)\n",
    "    \n",
    "    # Aplicar operações morfológicas para reduzir ruído\n",
    "    fgMask = cv.morphologyEx(fgMask, cv.MORPH_OPEN, kernel)\n",
    "    fgMask = cv.morphologyEx(fgMask, cv.MORPH_CLOSE, kernel)\n",
    "    fgMask = cv.dilate(fgMask, kernel, iterations=3)\n",
    "    fgMask = cv.dilate(fgMask, kernel, iterations=3)\n",
    "\n",
    "    contours, _= cv.findContours(fgMask, cv.RETR_EXTERNAL, cv.CHAIN_APPROX_SIMPLE)\n",
    "    movement_frame = cv.bitwise_and(frame, frame, mask=fgMask)\n",
    "\n",
    "    for contour in contours:\n",
    "        poly = cv.approxPolyDP(contour, 0.01 * cv.arcLength(contour, True), True)\n",
    "        cv.polylines(movement_frame, [poly], True, (0, 255, 0), 2)\n",
    "\n",
    "\n",
    "\n",
    "    # Exibe a máscara do primeiro plano\n",
    "    cv.imshow('FG Mask', movement_frame)\n",
    "\n",
    "    # Sai do loop ao pressionar 'q'\n",
    "    if cv.waitKey(30) == ord('q'):\n",
    "        break\n",
    "\n",
    "# Libera os recursos e fecha as janelas\n",
    "cap.release()\n",
    "cv.destroyAllWindows()\n"
   ]
  }
 ],
 "metadata": {
  "kernelspec": {
   "display_name": "Python 3",
   "language": "python",
   "name": "python3"
  },
  "language_info": {
   "codemirror_mode": {
    "name": "ipython",
    "version": 3
   },
   "file_extension": ".py",
   "mimetype": "text/x-python",
   "name": "python",
   "nbconvert_exporter": "python",
   "pygments_lexer": "ipython3",
   "version": "3.10.12"
  }
 },
 "nbformat": 4,
 "nbformat_minor": 2
}
