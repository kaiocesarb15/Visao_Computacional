{
 "cells": [
  {
   "cell_type": "code",
   "execution_count": 1,
   "metadata": {},
   "outputs": [],
   "source": [
    "import cv2 as cv\n",
    "import numpy as np"
   ]
  },
  {
   "cell_type": "code",
   "execution_count": 2,
   "metadata": {},
   "outputs": [
    {
     "name": "stderr",
     "output_type": "stream",
     "text": [
      "qt.qpa.plugin: Could not find the Qt platform plugin \"wayland\" in \"/home/kaio/.local/lib/python3.10/site-packages/cv2/qt/plugins\"\n"
     ]
    }
   ],
   "source": [
    "cap = cv.VideoCapture('../src/barcodes.avi')\n",
    "cv.namedWindow('Códigos de Barra Detectados', cv.WINDOW_NORMAL)\n",
    "\n",
    "while True:\n",
    "    ret, frame = cap.read()\n",
    "    \n",
    "    if not ret:\n",
    "        break\n",
    "\n",
    "    gray = cv.cvtColor(frame, cv.COLOR_BGR2GRAY)\n",
    "\n",
    "    gradX = cv.Sobel(gray, ddepth=cv.CV_32F, dx=1, dy=0, ksize=-1)\n",
    "    gradY = cv.Sobel(gray, ddepth=cv.CV_32F, dx=0, dy=1, ksize=-1)\n",
    "\n",
    "    gradient = cv.subtract(gradX, gradY)\n",
    "    gradient = cv.convertScaleAbs(gradient)\n",
    "\n",
    "    blurred = cv.blur(gradient, (9, 9))\n",
    "    (_, thresh) = cv.threshold(blurred, 225, 255, cv.THRESH_BINARY)\n",
    "\n",
    "    # Operações morfológicas para fechar buracos\n",
    "    kernel = cv.getStructuringElement(cv.MORPH_RECT, (21, 7))\n",
    "    closed = cv.morphologyEx(thresh, cv.MORPH_CLOSE, kernel)\n",
    "\n",
    "    closed = cv.erode(closed, None, iterations=4)\n",
    "    closed = cv.dilate(closed, None, iterations=4)\n",
    "\n",
    "    cnts, _ = cv.findContours(closed.copy(), cv.RETR_EXTERNAL, cv.CHAIN_APPROX_SIMPLE)\n",
    "\n",
    "    if cnts:\n",
    "        # Pegar o maior contorno\n",
    "        c = sorted(cnts, key=cv.contourArea, reverse=True)[0]\n",
    "\n",
    "        x, y, w, h = cv.boundingRect(c)\n",
    "\n",
    "        if w > h:  # Horizontal\n",
    "            cv.rectangle(frame, (x, y), (x + w, y + h), (255, 0, 0), -1)  # Azul para horizontal\n",
    "        else:  # Vertical\n",
    "            cv.rectangle(frame, (x, y), (x + w, y + h), (0, 0, 255), -1)  # Vermelho para vertical\n",
    "\n",
    "    cv.imshow('Códigos de Barra Detectados', frame)\n",
    "\n",
    "    if cv.waitKey(30) & 0xFF == ord('q'):\n",
    "        break\n",
    "\n",
    "cap.release()\n",
    "cv.destroyAllWindows()\n"
   ]
  }
 ],
 "metadata": {
  "kernelspec": {
   "display_name": "Python 3",
   "language": "python",
   "name": "python3"
  },
  "language_info": {
   "codemirror_mode": {
    "name": "ipython",
    "version": 3
   },
   "file_extension": ".py",
   "mimetype": "text/x-python",
   "name": "python",
   "nbconvert_exporter": "python",
   "pygments_lexer": "ipython3",
   "version": "3.10.12"
  }
 },
 "nbformat": 4,
 "nbformat_minor": 2
}
