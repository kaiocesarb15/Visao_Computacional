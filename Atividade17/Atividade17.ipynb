{
 "cells": [
  {
   "cell_type": "code",
   "execution_count": 1,
   "metadata": {},
   "outputs": [],
   "source": [
    "import cv2 as cv\n",
    "import numpy as np"
   ]
  },
  {
   "cell_type": "code",
   "execution_count": 58,
   "metadata": {},
   "outputs": [
    {
     "name": "stderr",
     "output_type": "stream",
     "text": [
      "[mjpeg @ 0x580368b65140] overread 3\n"
     ]
    }
   ],
   "source": [
    "# Inicializa o vídeo e o algoritmo de subtração de fundo\n",
    "cap = cv.VideoCapture('../src/barcodes.avi')\n",
    "\n",
    "while True:\n",
    "    ret, frame = cap.read()\n",
    "    \n",
    "    # Verifica se o frame foi lido corretamente\n",
    "    if frame is None:\n",
    "        break\n",
    "    # frame = cv.resize(frame, (0,0), fx=0.5, fy=0.5)\n",
    "    gray = cv.cvtColor(frame, cv.COLOR_BGR2GRAY)\n",
    "\n",
    "    grad_x = cv.Sobel(gray, cv.CV_16S, 1, 0)\n",
    "    grad_y = cv.Sobel(gray, cv.CV_16S, 0, 1)\n",
    "    grad = cv.subtract(grad_x, grad_y)\n",
    "    grad = cv.convertScaleAbs(grad)\n",
    "\n",
    "    \n",
    "    grad_x = cv.medianBlur(grad_x, 3)\n",
    "    _, grad_x = cv.threshold(grad_x, 50, 255, cv.THRESH_BINARY)\n",
    "    kernel = np.ones((7, 7), np.uint8)\n",
    "    #kernel = cv.getStructuringElement(cv.MORPH_RECT, (3, 3), (-1, -1))\n",
    "\n",
    "    grad_x = cv.morphologyEx(grad_x, cv.MORPH_CLOSE, kernel)\n",
    "    grad_x = cv.morphologyEx(grad_x, cv.MORPH_OPEN, kernel)\n",
    "\n",
    "    # Exibe a máscara do primeiro plano\n",
    "\n",
    "    grad_x = cv.convertScaleAbs(grad_x)\n",
    "    grad_y= cv.convertScaleAbs(grad_y)\n",
    "\n",
    "    cv.imshow('Image', grad_x)\n",
    "    cv.imshow('Image_', frame)\n",
    "\n",
    "    # Sai do loop ao pressionar 'q'\n",
    "    if cv.waitKey(1) == ord('q'):\n",
    "        break\n",
    "\n",
    "# Libera os recursos e fecha as janelas\n",
    "cap.release()\n",
    "cv.destroyAllWindows()\n"
   ]
  },
  {
   "cell_type": "code",
   "execution_count": null,
   "metadata": {},
   "outputs": [],
   "source": []
  }
 ],
 "metadata": {
  "kernelspec": {
   "display_name": "Python 3",
   "language": "python",
   "name": "python3"
  },
  "language_info": {
   "codemirror_mode": {
    "name": "ipython",
    "version": 3
   },
   "file_extension": ".py",
   "mimetype": "text/x-python",
   "name": "python",
   "nbconvert_exporter": "python",
   "pygments_lexer": "ipython3",
   "version": "3.10.12"
  }
 },
 "nbformat": 4,
 "nbformat_minor": 2
}
